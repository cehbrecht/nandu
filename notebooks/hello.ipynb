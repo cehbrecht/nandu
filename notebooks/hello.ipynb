{
 "cells": [
  {
   "cell_type": "markdown",
   "id": "1cd49076-efb3-4430-82f3-1d2dcb4e74d5",
   "metadata": {},
   "source": [
    "# Nandu - \"Hello World\" Process"
   ]
  },
  {
   "cell_type": "code",
   "execution_count": 1,
   "id": "4d47d7af-f5e1-4e7c-9a3a-564701227940",
   "metadata": {},
   "outputs": [],
   "source": [
    "import requests\n",
    "import json"
   ]
  },
  {
   "cell_type": "code",
   "execution_count": 2,
   "id": "1eac8eb6-2f35-4ecc-b7d2-385707f74863",
   "metadata": {},
   "outputs": [],
   "source": [
    "BASE_URL = \"http://localhost:5000\""
   ]
  },
  {
   "cell_type": "markdown",
   "id": "e05a5293-e9ce-4631-9e3e-5000416e03bf",
   "metadata": {},
   "source": [
    "## Show all processes"
   ]
  },
  {
   "cell_type": "code",
   "execution_count": 3,
   "id": "2ad8ab8d-2bd6-4f5e-9ac8-814cf18d1ab9",
   "metadata": {},
   "outputs": [
    {
     "data": {
      "text/plain": [
       "True"
      ]
     },
     "execution_count": 3,
     "metadata": {},
     "output_type": "execute_result"
    }
   ],
   "source": [
    "resp = requests.get(f\"{BASE_URL}/processes\")\n",
    "resp.ok"
   ]
  },
  {
   "cell_type": "code",
   "execution_count": 4,
   "id": "61c684c5-063c-47af-9f4c-1e99ff923caa",
   "metadata": {},
   "outputs": [
    {
     "data": {
      "text/plain": [
       "{'processes': [{'version': '0.2.0',\n",
       "   'id': 'hello-world',\n",
       "   'title': 'Hello World',\n",
       "   'description': 'An example process that takes a name as input, and echoes it back as output. Intended to demonstrate a simple process with a single literal input.',\n",
       "   'jobControlOptions': ['sync-execute', 'async-execute'],\n",
       "   'keywords': ['hello world', 'example', 'echo'],\n",
       "   'links': [{'type': 'text/html',\n",
       "     'rel': 'about',\n",
       "     'title': 'information',\n",
       "     'href': 'https://example.org/process',\n",
       "     'hreflang': 'en-US'},\n",
       "    {'type': 'application/json',\n",
       "     'rel': 'self',\n",
       "     'href': 'http://localhost:5000/processes/hello-world?f=json',\n",
       "     'title': 'Process description as JSON',\n",
       "     'hreflang': 'en-US'},\n",
       "    {'type': 'text/html',\n",
       "     'rel': 'alternate',\n",
       "     'href': 'http://localhost:5000/processes/hello-world?f=html',\n",
       "     'title': 'Process description as HTML',\n",
       "     'hreflang': 'en-US'},\n",
       "    {'type': 'text/html',\n",
       "     'rel': 'http://www.opengis.net/def/rel/ogc/1.0/job-list',\n",
       "     'href': 'http://localhost:5000/jobs?f=html',\n",
       "     'title': 'Jobs for this process as HTML',\n",
       "     'hreflang': 'en-US'},\n",
       "    {'type': 'application/json',\n",
       "     'rel': 'http://www.opengis.net/def/rel/ogc/1.0/job-list',\n",
       "     'href': 'http://localhost:5000/jobs?f=json',\n",
       "     'title': 'Jobs for this process as HTML',\n",
       "     'hreflang': 'en-US'},\n",
       "    {'type': 'application/json',\n",
       "     'rel': 'http://www.opengis.net/def/rel/ogc/1.0/execute',\n",
       "     'href': 'http://localhost:5000/processes/hello-world/execution?f=json',\n",
       "     'title': 'Execution for this process as JSON',\n",
       "     'hreflang': 'en-US'}],\n",
       "   'outputTransmission': ['value']}],\n",
       " 'links': [{'type': 'application/json',\n",
       "   'rel': 'self',\n",
       "   'title': 'This document as JSON',\n",
       "   'href': 'http://localhost:5000/processes?f=json'},\n",
       "  {'type': 'application/ld+json',\n",
       "   'rel': 'alternate',\n",
       "   'title': 'This document as RDF (JSON-LD)',\n",
       "   'href': 'http://localhost:5000/processes?f=jsonld'},\n",
       "  {'type': 'text/html',\n",
       "   'rel': 'alternate',\n",
       "   'title': 'This document as HTML',\n",
       "   'href': 'http://localhost:5000/processes?f=html'}]}"
      ]
     },
     "execution_count": 4,
     "metadata": {},
     "output_type": "execute_result"
    }
   ],
   "source": [
    "resp.json()"
   ]
  },
  {
   "cell_type": "markdown",
   "id": "535d26ce-e51a-4fd9-878f-6f4d4594f74d",
   "metadata": {},
   "source": [
    "## Show description of \"Hello World\" process"
   ]
  },
  {
   "cell_type": "code",
   "execution_count": 5,
   "id": "fc9de5dc-ae6e-4952-bad9-8fe46c5ab013",
   "metadata": {},
   "outputs": [
    {
     "data": {
      "text/plain": [
       "True"
      ]
     },
     "execution_count": 5,
     "metadata": {},
     "output_type": "execute_result"
    }
   ],
   "source": [
    "resp = requests.get(f\"{BASE_URL}/processes/hello-world\")\n",
    "resp.ok"
   ]
  },
  {
   "cell_type": "code",
   "execution_count": 6,
   "id": "ab640345-21fe-403f-afc5-9cdb843fcf90",
   "metadata": {},
   "outputs": [
    {
     "data": {
      "text/plain": [
       "{'version': '0.2.0',\n",
       " 'id': 'hello-world',\n",
       " 'title': 'Hello World',\n",
       " 'description': 'An example process that takes a name as input, and echoes it back as output. Intended to demonstrate a simple process with a single literal input.',\n",
       " 'jobControlOptions': ['sync-execute', 'async-execute'],\n",
       " 'keywords': ['hello world', 'example', 'echo'],\n",
       " 'links': [{'type': 'text/html',\n",
       "   'rel': 'about',\n",
       "   'title': 'information',\n",
       "   'href': 'https://example.org/process',\n",
       "   'hreflang': 'en-US'},\n",
       "  {'type': 'application/json',\n",
       "   'rel': 'self',\n",
       "   'href': 'http://localhost:5000/processes/hello-world?f=json',\n",
       "   'title': 'Process description as JSON',\n",
       "   'hreflang': 'en-US'},\n",
       "  {'type': 'text/html',\n",
       "   'rel': 'alternate',\n",
       "   'href': 'http://localhost:5000/processes/hello-world?f=html',\n",
       "   'title': 'Process description as HTML',\n",
       "   'hreflang': 'en-US'},\n",
       "  {'type': 'text/html',\n",
       "   'rel': 'http://www.opengis.net/def/rel/ogc/1.0/job-list',\n",
       "   'href': 'http://localhost:5000/jobs?f=html',\n",
       "   'title': 'Jobs for this process as HTML',\n",
       "   'hreflang': 'en-US'},\n",
       "  {'type': 'application/json',\n",
       "   'rel': 'http://www.opengis.net/def/rel/ogc/1.0/job-list',\n",
       "   'href': 'http://localhost:5000/jobs?f=json',\n",
       "   'title': 'Jobs for this process as HTML',\n",
       "   'hreflang': 'en-US'},\n",
       "  {'type': 'application/json',\n",
       "   'rel': 'http://www.opengis.net/def/rel/ogc/1.0/execute',\n",
       "   'href': 'http://localhost:5000/processes/hello-world/execution?f=json',\n",
       "   'title': 'Execution for this process as JSON',\n",
       "   'hreflang': 'en-US'}],\n",
       " 'inputs': {'name': {'title': 'Name',\n",
       "   'description': 'The name of the person or entity that you wish tobe echoed back as an output',\n",
       "   'schema': {'type': 'string'},\n",
       "   'minOccurs': 1,\n",
       "   'maxOccurs': 1,\n",
       "   'keywords': ['full name', 'personal']},\n",
       "  'message': {'title': 'Message',\n",
       "   'description': 'An optional message to echo as well',\n",
       "   'schema': {'type': 'string'},\n",
       "   'minOccurs': 0,\n",
       "   'maxOccurs': 1,\n",
       "   'keywords': ['message']}},\n",
       " 'outputs': {'echo': {'title': 'Hello, world',\n",
       "   'description': 'A \"hello world\" echo with the name and (optional) message submitted for processing',\n",
       "   'schema': {'type': 'object', 'contentMediaType': 'application/json'}}},\n",
       " 'example': {'inputs': {'name': 'World', 'message': 'An optional message.'}},\n",
       " 'outputTransmission': ['value']}"
      ]
     },
     "execution_count": 6,
     "metadata": {},
     "output_type": "execute_result"
    }
   ],
   "source": [
    "resp.json()"
   ]
  },
  {
   "cell_type": "markdown",
   "id": "e30f77f8-c19e-43fd-b0b2-08cc1a80882b",
   "metadata": {},
   "source": [
    "## Execute Hello World process"
   ]
  },
  {
   "cell_type": "code",
   "execution_count": 7,
   "id": "80def880-7447-44e4-aa4f-2fd34506d4bd",
   "metadata": {},
   "outputs": [],
   "source": [
    "data = {\n",
    "    \"inputs\": {\n",
    "        \"name\": \"Alice\"\n",
    "    }\n",
    "}\n",
    "\n",
    "headers = {\n",
    "    \"Content-Type\": \"application/json\",\n",
    "    \"Accept\": \"application/json\"\n",
    "}"
   ]
  },
  {
   "cell_type": "code",
   "execution_count": 8,
   "id": "24816c42-3ff0-496a-8875-10c3b615be53",
   "metadata": {},
   "outputs": [
    {
     "data": {
      "text/plain": [
       "True"
      ]
     },
     "execution_count": 8,
     "metadata": {},
     "output_type": "execute_result"
    }
   ],
   "source": [
    "resp = requests.post(f\"{BASE_URL}/processes/hello-world/execution\", data=json.dumps(data), headers=headers)\n",
    "resp.ok"
   ]
  },
  {
   "cell_type": "code",
   "execution_count": 9,
   "id": "c4535686-ef52-42fe-826c-41184566c384",
   "metadata": {},
   "outputs": [
    {
     "data": {
      "text/plain": [
       "{'id': 'echo', 'value': 'Hello Alice!'}"
      ]
     },
     "execution_count": 9,
     "metadata": {},
     "output_type": "execute_result"
    }
   ],
   "source": [
    "resp.json()"
   ]
  }
 ],
 "metadata": {
  "kernelspec": {
   "display_name": "Python 3 (ipykernel)",
   "language": "python",
   "name": "python3"
  },
  "language_info": {
   "codemirror_mode": {
    "name": "ipython",
    "version": 3
   },
   "file_extension": ".py",
   "mimetype": "text/x-python",
   "name": "python",
   "nbconvert_exporter": "python",
   "pygments_lexer": "ipython3",
   "version": "3.10.14"
  }
 },
 "nbformat": 4,
 "nbformat_minor": 5
}
