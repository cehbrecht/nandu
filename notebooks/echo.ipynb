{
 "cells": [
  {
   "cell_type": "markdown",
   "id": "1cd49076-efb3-4430-82f3-1d2dcb4e74d5",
   "metadata": {},
   "source": [
    "# Nandu - \"Echo\" Process"
   ]
  },
  {
   "cell_type": "code",
   "execution_count": 1,
   "id": "4d47d7af-f5e1-4e7c-9a3a-564701227940",
   "metadata": {},
   "outputs": [],
   "source": [
    "import requests\n",
    "import json\n",
    "import time"
   ]
  },
  {
   "cell_type": "code",
   "execution_count": 2,
   "id": "1eac8eb6-2f35-4ecc-b7d2-385707f74863",
   "metadata": {},
   "outputs": [],
   "source": [
    "BASE_URL = \"http://localhost:5000\""
   ]
  },
  {
   "cell_type": "markdown",
   "id": "e05a5293-e9ce-4631-9e3e-5000416e03bf",
   "metadata": {},
   "source": [
    "## Show all processes"
   ]
  },
  {
   "cell_type": "code",
   "execution_count": 3,
   "id": "2ad8ab8d-2bd6-4f5e-9ac8-814cf18d1ab9",
   "metadata": {},
   "outputs": [
    {
     "data": {
      "text/plain": [
       "True"
      ]
     },
     "execution_count": 3,
     "metadata": {},
     "output_type": "execute_result"
    }
   ],
   "source": [
    "resp = requests.get(f\"{BASE_URL}/processes\")\n",
    "resp.ok"
   ]
  },
  {
   "cell_type": "code",
   "execution_count": 4,
   "id": "61c684c5-063c-47af-9f4c-1e99ff923caa",
   "metadata": {},
   "outputs": [
    {
     "data": {
      "text/plain": [
       "{'processes': [{'version': '0.2.0',\n",
       "   'id': 'hello-world',\n",
       "   'title': 'Hello World',\n",
       "   'description': 'An example process that takes a name as input, and echoes it back as output. Intended to demonstrate a simple process with a single literal input.',\n",
       "   'jobControlOptions': ['sync-execute', 'async-execute'],\n",
       "   'keywords': ['hello world', 'example', 'echo'],\n",
       "   'links': [{'type': 'text/html',\n",
       "     'rel': 'about',\n",
       "     'title': 'information',\n",
       "     'href': 'https://example.org/process',\n",
       "     'hreflang': 'en-US'},\n",
       "    {'type': 'application/json',\n",
       "     'rel': 'self',\n",
       "     'href': 'http://localhost:5000/processes/hello-world?f=json',\n",
       "     'title': 'Process description as JSON',\n",
       "     'hreflang': 'en-US'},\n",
       "    {'type': 'text/html',\n",
       "     'rel': 'alternate',\n",
       "     'href': 'http://localhost:5000/processes/hello-world?f=html',\n",
       "     'title': 'Process description as HTML',\n",
       "     'hreflang': 'en-US'},\n",
       "    {'type': 'text/html',\n",
       "     'rel': 'http://www.opengis.net/def/rel/ogc/1.0/job-list',\n",
       "     'href': 'http://localhost:5000/jobs?f=html',\n",
       "     'title': 'Jobs for this process as HTML',\n",
       "     'hreflang': 'en-US'},\n",
       "    {'type': 'application/json',\n",
       "     'rel': 'http://www.opengis.net/def/rel/ogc/1.0/job-list',\n",
       "     'href': 'http://localhost:5000/jobs?f=json',\n",
       "     'title': 'Jobs for this process as HTML',\n",
       "     'hreflang': 'en-US'},\n",
       "    {'type': 'application/json',\n",
       "     'rel': 'http://www.opengis.net/def/rel/ogc/1.0/execute',\n",
       "     'href': 'http://localhost:5000/processes/hello-world/execution?f=json',\n",
       "     'title': 'Execution for this process as JSON',\n",
       "     'hreflang': 'en-US'}],\n",
       "   'outputTransmission': ['value']},\n",
       "  {'id': 'echo',\n",
       "   'title': 'Echo Process',\n",
       "   'description': 'Testable Echo process.',\n",
       "   'version': '1.0.0',\n",
       "   'jobControlOptions': ['sync-execute', 'async-execute'],\n",
       "   'outputTransmission': ['value'],\n",
       "   'links': [{'type': 'text/html',\n",
       "     'rel': 'about',\n",
       "     'title': 'information',\n",
       "     'href': 'https://example.org/process',\n",
       "     'hreflang': 'en-US'},\n",
       "    {'type': 'application/json',\n",
       "     'rel': 'self',\n",
       "     'href': 'http://localhost:5000/processes/echo?f=json',\n",
       "     'title': 'Process description as JSON',\n",
       "     'hreflang': 'en-US'},\n",
       "    {'type': 'text/html',\n",
       "     'rel': 'alternate',\n",
       "     'href': 'http://localhost:5000/processes/echo?f=html',\n",
       "     'title': 'Process description as HTML',\n",
       "     'hreflang': 'en-US'},\n",
       "    {'type': 'text/html',\n",
       "     'rel': 'http://www.opengis.net/def/rel/ogc/1.0/job-list',\n",
       "     'href': 'http://localhost:5000/jobs?f=html',\n",
       "     'title': 'Jobs for this process as HTML',\n",
       "     'hreflang': 'en-US'},\n",
       "    {'type': 'application/json',\n",
       "     'rel': 'http://www.opengis.net/def/rel/ogc/1.0/job-list',\n",
       "     'href': 'http://localhost:5000/jobs?f=json',\n",
       "     'title': 'Jobs for this process as HTML',\n",
       "     'hreflang': 'en-US'},\n",
       "    {'type': 'application/json',\n",
       "     'rel': 'http://www.opengis.net/def/rel/ogc/1.0/execute',\n",
       "     'href': 'http://localhost:5000/processes/echo/execution?f=json',\n",
       "     'title': 'Execution for this process as JSON',\n",
       "     'hreflang': 'en-US'}]}],\n",
       " 'links': [{'type': 'application/json',\n",
       "   'rel': 'self',\n",
       "   'title': 'This document as JSON',\n",
       "   'href': 'http://localhost:5000/processes?f=json'},\n",
       "  {'type': 'application/ld+json',\n",
       "   'rel': 'alternate',\n",
       "   'title': 'This document as RDF (JSON-LD)',\n",
       "   'href': 'http://localhost:5000/processes?f=jsonld'},\n",
       "  {'type': 'text/html',\n",
       "   'rel': 'alternate',\n",
       "   'title': 'This document as HTML',\n",
       "   'href': 'http://localhost:5000/processes?f=html'}]}"
      ]
     },
     "execution_count": 4,
     "metadata": {},
     "output_type": "execute_result"
    }
   ],
   "source": [
    "resp.json()"
   ]
  },
  {
   "cell_type": "markdown",
   "id": "535d26ce-e51a-4fd9-878f-6f4d4594f74d",
   "metadata": {},
   "source": [
    "## Show description of \"Echo\" process"
   ]
  },
  {
   "cell_type": "code",
   "execution_count": 5,
   "id": "fc9de5dc-ae6e-4952-bad9-8fe46c5ab013",
   "metadata": {},
   "outputs": [
    {
     "data": {
      "text/plain": [
       "True"
      ]
     },
     "execution_count": 5,
     "metadata": {},
     "output_type": "execute_result"
    }
   ],
   "source": [
    "resp = requests.get(f\"{BASE_URL}/processes/echo\")\n",
    "resp.ok"
   ]
  },
  {
   "cell_type": "code",
   "execution_count": 6,
   "id": "ab640345-21fe-403f-afc5-9cdb843fcf90",
   "metadata": {},
   "outputs": [
    {
     "data": {
      "text/plain": [
       "{'id': 'echo',\n",
       " 'title': 'Echo Process',\n",
       " 'description': 'Testable Echo process.',\n",
       " 'version': '1.0.0',\n",
       " 'jobControlOptions': ['sync-execute', 'async-execute'],\n",
       " 'outputTransmission': ['value'],\n",
       " 'inputs': {'echoInput': {'title': 'Echo value',\n",
       "   'description': 'Value to be echoed back.',\n",
       "   'minOccurs': 1,\n",
       "   'maxOccurs': 1,\n",
       "   'schema': {'type': 'string', 'enum': ['Echo', 'Test', '42']}},\n",
       "  'pause': {'title': 'Pause value',\n",
       "   'description': 'Value to control the processing time.',\n",
       "   'minOccurs': 1,\n",
       "   'maxOccurs': 1,\n",
       "   'schema': {'type': 'number', 'enum': [5.5, 10.25, 42.0]}}},\n",
       " 'outputs': {'echoOutput': {'schema': {'type': 'string'}}},\n",
       " 'links': [{'type': 'text/html',\n",
       "   'rel': 'about',\n",
       "   'title': 'information',\n",
       "   'href': 'https://example.org/process',\n",
       "   'hreflang': 'en-US'},\n",
       "  {'type': 'application/json',\n",
       "   'rel': 'self',\n",
       "   'href': 'http://localhost:5000/processes/echo?f=json',\n",
       "   'title': 'Process description as JSON',\n",
       "   'hreflang': 'en-US'},\n",
       "  {'type': 'text/html',\n",
       "   'rel': 'alternate',\n",
       "   'href': 'http://localhost:5000/processes/echo?f=html',\n",
       "   'title': 'Process description as HTML',\n",
       "   'hreflang': 'en-US'},\n",
       "  {'type': 'text/html',\n",
       "   'rel': 'http://www.opengis.net/def/rel/ogc/1.0/job-list',\n",
       "   'href': 'http://localhost:5000/jobs?f=html',\n",
       "   'title': 'Jobs for this process as HTML',\n",
       "   'hreflang': 'en-US'},\n",
       "  {'type': 'application/json',\n",
       "   'rel': 'http://www.opengis.net/def/rel/ogc/1.0/job-list',\n",
       "   'href': 'http://localhost:5000/jobs?f=json',\n",
       "   'title': 'Jobs for this process as HTML',\n",
       "   'hreflang': 'en-US'},\n",
       "  {'type': 'application/json',\n",
       "   'rel': 'http://www.opengis.net/def/rel/ogc/1.0/execute',\n",
       "   'href': 'http://localhost:5000/processes/echo/execution?f=json',\n",
       "   'title': 'Execution for this process as JSON',\n",
       "   'hreflang': 'en-US'}],\n",
       " 'example': {'inputs': {'echo': 'echoValue', 'pause': 10.0}}}"
      ]
     },
     "execution_count": 6,
     "metadata": {},
     "output_type": "execute_result"
    }
   ],
   "source": [
    "resp.json()"
   ]
  },
  {
   "cell_type": "markdown",
   "id": "e30f77f8-c19e-43fd-b0b2-08cc1a80882b",
   "metadata": {},
   "source": [
    "## Execute \"Echo\" process - sync mode"
   ]
  },
  {
   "cell_type": "code",
   "execution_count": 7,
   "id": "80def880-7447-44e4-aa4f-2fd34506d4bd",
   "metadata": {},
   "outputs": [],
   "source": [
    "data = {\n",
    "    \"inputs\": {\n",
    "        \"echoInput\": \"Sun rise\",\n",
    "        \"pause\": 5.5\n",
    "    }\n",
    "}\n",
    "\n",
    "headers = {\n",
    "    \"Content-Type\": \"application/json\",\n",
    "    \"Accept\": \"application/json\"\n",
    "}"
   ]
  },
  {
   "cell_type": "code",
   "execution_count": 8,
   "id": "24816c42-3ff0-496a-8875-10c3b615be53",
   "metadata": {},
   "outputs": [
    {
     "data": {
      "text/plain": [
       "True"
      ]
     },
     "execution_count": 8,
     "metadata": {},
     "output_type": "execute_result"
    }
   ],
   "source": [
    "resp = requests.post(f\"{BASE_URL}/processes/echo/execution\", data=json.dumps(data), headers=headers)\n",
    "resp.ok"
   ]
  },
  {
   "cell_type": "code",
   "execution_count": 9,
   "id": "c4535686-ef52-42fe-826c-41184566c384",
   "metadata": {},
   "outputs": [
    {
     "data": {
      "text/plain": [
       "{'id': 'echoOutput', 'value': 'Sun rise'}"
      ]
     },
     "execution_count": 9,
     "metadata": {},
     "output_type": "execute_result"
    }
   ],
   "source": [
    "resp.json()"
   ]
  },
  {
   "cell_type": "markdown",
   "id": "64ed8177-2152-4eaf-8d77-539edd797d86",
   "metadata": {},
   "source": [
    "## Execute \"Echo\" process - async mode"
   ]
  },
  {
   "cell_type": "code",
   "execution_count": 10,
   "id": "b339ae2a-86fc-4f24-8f21-f5409f7e5a62",
   "metadata": {},
   "outputs": [],
   "source": [
    "data = {\n",
    "    \"inputs\": {\n",
    "        \"echoInput\": \"Sun rise\",\n",
    "        \"pause\": 5.5\n",
    "    } \n",
    "}\n",
    "\n",
    "headers = {\n",
    "    \"Content-Type\": \"application/json\",\n",
    "    \"Accept\": \"application/json\",\n",
    "    \"Prefer\": \"respond-async\"\n",
    "}"
   ]
  },
  {
   "cell_type": "code",
   "execution_count": 11,
   "id": "9ab7b0d5-a403-42e8-b862-1d7415986de3",
   "metadata": {},
   "outputs": [
    {
     "data": {
      "text/plain": [
       "True"
      ]
     },
     "execution_count": 11,
     "metadata": {},
     "output_type": "execute_result"
    }
   ],
   "source": [
    "resp = requests.post(f\"{BASE_URL}/processes/echo/execution\", data=json.dumps(data), headers=headers)\n",
    "resp.ok"
   ]
  },
  {
   "cell_type": "code",
   "execution_count": 12,
   "id": "a5d5c69f-baf6-4917-bb5a-db7a1c81630d",
   "metadata": {},
   "outputs": [],
   "source": [
    "resp.json()"
   ]
  },
  {
   "cell_type": "code",
   "execution_count": 13,
   "id": "6510d6fa-46b2-465f-9bb1-edf143ee7392",
   "metadata": {},
   "outputs": [
    {
     "data": {
      "text/plain": [
       "'http://localhost:5000/jobs/ca27a946-7422-11ef-a674-acde48001122'"
      ]
     },
     "execution_count": 13,
     "metadata": {},
     "output_type": "execute_result"
    }
   ],
   "source": [
    "job_url = resp.headers[\"Location\"]\n",
    "job_url"
   ]
  },
  {
   "cell_type": "code",
   "execution_count": 14,
   "id": "45092d0e-0e18-48f8-bd7e-541fa2b9d17a",
   "metadata": {},
   "outputs": [
    {
     "name": "stdout",
     "output_type": "stream",
     "text": [
      "status=accepted, progress=5, message=Job accepted and ready for execution, start=2024-09-16T11:57:04.108361Z, end=None\n",
      "status=accepted, progress=5, message=Job accepted and ready for execution, start=2024-09-16T11:57:04.108361Z, end=None\n",
      "status=accepted, progress=5, message=Job accepted and ready for execution, start=2024-09-16T11:57:04.108361Z, end=None\n",
      "status=successful, progress=100, message=Job complete, start=2024-09-16T11:57:04.108361Z, end=2024-09-16T11:57:09.620812Z\n"
     ]
    }
   ],
   "source": [
    "# poll job status until finished\n",
    "\n",
    "while True:\n",
    "    resp = requests.get(job_url)\n",
    "    status = resp.json()['status']\n",
    "    progress = resp.json()['progress']\n",
    "    message = resp.json()['message']\n",
    "    start = resp.json()['job_start_datetime']\n",
    "    end = resp.json()['job_end_datetime']\n",
    "\n",
    "    print(f\"status={status}, progress={progress}, message={message}, start={start}, end={end}\")\n",
    "\n",
    "    if status in [\"successful\"]:\n",
    "        break\n",
    "\n",
    "    time.sleep(2)"
   ]
  },
  {
   "cell_type": "code",
   "execution_count": 15,
   "id": "75531a73-c3da-4e58-a590-a59251bb9e60",
   "metadata": {},
   "outputs": [
    {
     "data": {
      "text/plain": [
       "{'type': 'process',\n",
       " 'processID': 'echo',\n",
       " 'jobID': 'ca27a946-7422-11ef-a674-acde48001122',\n",
       " 'status': 'successful',\n",
       " 'message': 'Job complete',\n",
       " 'progress': 100,\n",
       " 'parameters': None,\n",
       " 'job_start_datetime': '2024-09-16T11:57:04.108361Z',\n",
       " 'job_end_datetime': '2024-09-16T11:57:09.620812Z',\n",
       " 'links': [{'href': 'http://localhost:5000/jobs/ca27a946-7422-11ef-a674-acde48001122/results?f=html',\n",
       "   'rel': 'http://www.opengis.net/def/rel/ogc/1.0/results',\n",
       "   'type': 'text/html',\n",
       "   'title': 'Results of job as HTML'},\n",
       "  {'href': 'http://localhost:5000/jobs/ca27a946-7422-11ef-a674-acde48001122/results?f=json',\n",
       "   'rel': 'http://www.opengis.net/def/rel/ogc/1.0/results',\n",
       "   'type': 'application/json',\n",
       "   'title': 'Results of job as JSON'}]}"
      ]
     },
     "execution_count": 15,
     "metadata": {},
     "output_type": "execute_result"
    }
   ],
   "source": [
    "# show detailed job status\n",
    "resp.json()"
   ]
  },
  {
   "cell_type": "code",
   "execution_count": 16,
   "id": "106e00b0-d76c-4b38-9df2-ba8f8c8439c4",
   "metadata": {},
   "outputs": [
    {
     "data": {
      "text/plain": [
       "{'id': 'echoOutput', 'value': 'Sun rise'}"
      ]
     },
     "execution_count": 16,
     "metadata": {},
     "output_type": "execute_result"
    }
   ],
   "source": [
    "# show job result\n",
    "\n",
    "resp = requests.get(f\"{job_url}/results?f=json\")\n",
    "resp.json()"
   ]
  }
 ],
 "metadata": {
  "kernelspec": {
   "display_name": "Python 3 (ipykernel)",
   "language": "python",
   "name": "python3"
  },
  "language_info": {
   "codemirror_mode": {
    "name": "ipython",
    "version": 3
   },
   "file_extension": ".py",
   "mimetype": "text/x-python",
   "name": "python",
   "nbconvert_exporter": "python",
   "pygments_lexer": "ipython3",
   "version": "3.10.14"
  }
 },
 "nbformat": 4,
 "nbformat_minor": 5
}
